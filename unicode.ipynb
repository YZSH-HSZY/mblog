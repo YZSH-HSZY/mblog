{
 "cells": [
  {
   "cell_type": "code",
   "execution_count": null,
   "metadata": {},
   "outputs": [],
   "source": [
    "with open('all_unicode_char.txt', 'wb') as f:\n",
    "    err_nums = 0\n",
    "    true_nums = 0\n",
    "    for i in range(1, pow(2, 19)):\n",
    "        try:\n",
    "            s = chr(i).encode('utf8')\n",
    "        except UnicodeEncodeError:\n",
    "            err_nums += 1\n",
    "            s = None\n",
    "        if s:\n",
    "            f.write(s)\n",
    "            true_nums += 1\n",
    "    print(\n",
    "        'the true add error nums equals range(1, pow(2,19)):',\n",
    "        (err_nums + true_nums) == len(range(1,pow(2,19)))\n",
    "    )\n"
   ]
  },
  {
   "cell_type": "markdown",
   "metadata": {},
   "source": [
    "unicode中文范围\n",
    "U4e00-u9fa5 "
   ]
  },
  {
   "cell_type": "code",
   "execution_count": null,
   "metadata": {},
   "outputs": [],
   "source": [
    "import re\n",
    "# import jsonpath\n",
    "# jsonpath.jsonpath(\n",
    "#     {\"l\":0,\"tx\":{\"b\":[8]},\"b\":[1,2,9]},\n",
    "#     \"$..b[?(8 not in @)]\")\n",
    "l=re.match('[\\u4e00-\\u9fa5 ]', '那就')\n",
    "l=re.match(r'[\\u4e00-\\u9fa5 ]', '那就')\n",
    "pp='xs'"
   ]
  }
 ],
 "metadata": {
  "language_info": {
   "name": "python"
  }
 },
 "nbformat": 4,
 "nbformat_minor": 2
}
