{
 "cells": [
  {
   "cell_type": "markdown",
   "metadata": {},
   "source": [
    "## super笔记\n",
    "在oop编程中，我们经常需要使用super来调用父类的方法，各个编程语言均有对应的super实现。在python中提供超类super的类定义，有以下几种调用方式。\n",
    "1. 在类定义代码段中，使用无参数的 `super()` 调用\n",
    "2. 通过super通过的初始化方法 `super(type, object_or_type=None)` 调用，该初始化方法有三种重载方法:\n",
    "    - 单参数 `super(type)`,此时返回的super超类对象是未绑定的\n",
    "    - `super(type, obj)`,必须满足 `isinstance(obj,type)`\n",
    "    - `super(type, type2)`,必须满足 `issubclass(type,type2)`\n",
    "\n",
    "**注意** 返回一个代理对象，它会将方法调用委托给 type 的父类或兄弟类。 这对于访问已在类中被重写的继承方法很有用。\n",
    "\n",
    "[python官方super介绍](https://docs.python.org/zh-cn/3/library/functions.html#super)\n"
   ]
  },
  {
   "cell_type": "code",
   "execution_count": 6,
   "metadata": {},
   "outputs": [
    {
     "name": "stdout",
     "output_type": "stream",
     "text": [
      "this is child obj`s method: overwrite obj method\n",
      "get child obj`s Father obj method: this is obj of Father\n",
      "this is Child classmethod: overwrite classmethod\n",
      "get Child class`s Father classmethod: this is method of Father method\n"
     ]
    }
   ],
   "source": [
    "\"\"\" \n",
    "    演示super(type, obj)和super(type,type2)调用\n",
    "\"\"\"\n",
    "class Father:\n",
    "    def father_obj_method(self):\n",
    "        return 'this is obj of Father'\n",
    "    @classmethod\n",
    "    def father_classmethod(cls):\n",
    "        return 'this is method of Father method'\n",
    "\n",
    "class Child(Father):\n",
    "    def father_obj_method(self):\n",
    "        return 'overwrite obj method'\n",
    "    @classmethod\n",
    "    def father_classmethod(cls):\n",
    "        return 'overwrite classmethod'\n",
    "\n",
    "if __name__ == \"__main__\":\n",
    "    child_obj = Child()\n",
    "    father_obj = Father()\n",
    "    print('this is child obj`s method:', child_obj.father_obj_method())\n",
    "    # 获取super代理对象，访问child_obj的父对象部分\n",
    "    print('get child obj`s Father obj method:', super(Child, child_obj).father_obj_method())\n",
    "\n",
    "    print('this is Child classmethod:', child_obj.father_classmethod())\n",
    "    # 获取super代理对象，访问Child类的父类部分\n",
    "    print('get Child class`s Father classmethod:', super(Child, Child).father_classmethod())"
   ]
  },
  {
   "cell_type": "markdown",
   "metadata": {},
   "source": [
    "### super的父类查找顺序\n",
    "在python官方文档中是这样描述的:\n",
    "> object_or_type 确定要用于搜索的解析顺序。 搜索会从 type 之后的类开始。\n",
    "举例来说，如果 object_or_type 的 `__mro__` 为 `D -> B -> C -> A -> object` 并且 type 的值为 B，则 super() 将会搜索 `C -> A -> object`。\n",
    "\n",
    "> object_or_type 的 `__mro__` 属性列出了 getattr() 和 super() 所共同使用的方法解析搜索顺序。 该属性是动态的并可在任何继承层级结构发生更新时被改变。\n",
    "\n",
    "**注意** __mro__属性是被类方法mro()填充的，它在类实例化时被调用。即mro定义在元类type上，\n",
    "\n",
    ">>> type.mro\n",
    "<method 'mro' of 'type' objects>\n",
    ">>> list.mro\n",
    "<built-in method mro of type object at 0x00007FF9553BFAF0>\n",
    ">>> object.mro\n",
    "<built-in method mro of type object at 0x00007FF9553C2E00>\n"
   ]
  },
  {
   "cell_type": "markdown",
   "metadata": {},
   "source": [
    "```C\n",
    "Python-3.12.3/Objects/typeobject.c :10147\n",
    "typedef struct {\n",
    "    PyObject_HEAD\n",
    "    PyTypeObject *type;\n",
    "    PyObject *obj;\n",
    "    PyTypeObject *obj_type;\n",
    "} superobject;\n",
    "\n",
    "static PyMemberDef super_members[] = {\n",
    "    {\"__thisclass__\", T_OBJECT, offsetof(superobject, type), READONLY,\n",
    "     \"the class invoking super()\"},\n",
    "    {\"__self__\",  T_OBJECT, offsetof(superobject, obj), READONLY,\n",
    "     \"the instance invoking super(); may be None\"},\n",
    "    {\"__self_class__\", T_OBJECT, offsetof(superobject, obj_type), READONLY,\n",
    "     \"the type of the instance invoking super(); may be None\"},\n",
    "    {0}\n",
    "};\n",
    "```"
   ]
  }
 ],
 "metadata": {
  "kernelspec": {
   "display_name": "py39",
   "language": "python",
   "name": "python3"
  },
  "language_info": {
   "codemirror_mode": {
    "name": "ipython",
    "version": 3
   },
   "file_extension": ".py",
   "mimetype": "text/x-python",
   "name": "python",
   "nbconvert_exporter": "python",
   "pygments_lexer": "ipython3",
   "version": "3.11.3"
  }
 },
 "nbformat": 4,
 "nbformat_minor": 2
}
