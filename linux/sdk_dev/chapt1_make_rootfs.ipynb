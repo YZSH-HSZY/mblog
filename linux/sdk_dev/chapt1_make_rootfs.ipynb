{
 "cells": [
  {
   "cell_type": "markdown",
   "metadata": {
    "vscode": {
     "languageId": "plaintext"
    }
   },
   "source": [
    "---\n",
    "Title: Linux Root File System Make.\n",
    "Date: 2025-03-15 12:00\n",
    "Lang: zh-cn\n",
    "Category: Linux\n",
    "---"
   ]
  },
  {
   "cell_type": "markdown",
   "metadata": {},
   "source": [
    "# 笔记介绍\n",
    "\n",
    "此文件记载我学习定制linux系统中关于 `root file system` 的部分\n",
    "\n",
    "## 参考文档\n",
    "\n",
    "- [博客园-制作ubuntu-base rootfs博客](https://www.cnblogs.com/wsg1100/p/13127636.html)\n"
   ]
  }
 ],
 "metadata": {
  "language_info": {
   "name": "python"
  }
 },
 "nbformat": 4,
 "nbformat_minor": 2
}
