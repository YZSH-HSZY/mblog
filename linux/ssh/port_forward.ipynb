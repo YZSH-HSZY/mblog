{
 "cells": [
  {
   "cell_type": "markdown",
   "metadata": {
    "vscode": {
     "languageId": "plaintext"
    }
   },
   "source": [
    "---\n",
    "Title: Linux SSH Port Forward Example.\n",
    "Date: 2025-03-20 12:00\n",
    "Lang: zh-cn\n",
    "Category: Linux\n",
    "---"
   ]
  },
  {
   "cell_type": "markdown",
   "metadata": {},
   "source": [
    "# 介绍\n",
    "\n",
    "此文章记录使用ssh进行端口转发的示例。\n",
    "\n",
    "ssh能够将其他tcp端口的网络数据通ssh连接来转发, 并且提供自动加密及解密服务, 也叫做tunnel(隧道). 如`Telnet`/`SMTP`/`LDAP`等应用.\n",
    "\n",
    "> ssh隧道优点:\n",
    "1. 避免了用户名,密码及隐私信息的明文传输\n",
    "2. 突破防火墙的一些限制进行tcp连接\n",
    "\n",
    "> 参考文档\n",
    "- [知乎-ssh端口转发(跳板机)实战详解](https://zhuanlan.zhihu.com/p/469638489)\n",
    "\n",
    "## 本地转发\n",
    "\n",
    "> 示例:\n",
    "```sh\n",
    "ssh -g -L 6013:192.168.8.16:6013 -fN 192.168.8.14\n",
    "将所有连接到*:6013的连接转发到192.168.8.16:6013, 通过与192.168.8.14的ssh隧道\n",
    "# Options:\n",
    "    -g 允许远程主机连接到本地转发端口,此时监听地址为 \"0.0.0.0:local_port\" 不带-g选项则为 \"127.0.0.1:local_port\"\n",
    "    -L [bind_address:]port:host:hostport\n",
    "        指定到本地(客户端)主机上给定tcp_port/unix_socket的连接将被转发到远程端的给定主机和tcp_port/unix_socket。(即所有连接本地port的连接被转发到远程port)\n",
    "        这是通过分配一个套接字来监听本地端的TCP端口（可选地绑定到指定的绑定地址）或Unix套接字来实现的。每当连接到本地端口或套接字时，该连接就会通过安全通道转发，并从远程计算机连接到主机端口hostport或Unix套接字远程套接字。\n",
    "    -f  请求ssh在命令执行之前进入后台. 如果ssh将要询问密码或密码短语,但用户希望它在后台执行.这意味着-n(即重定向stdin到/dev/null)\n",
    "    -N  不执行远程命令, 在进行端口转发时比较有用. 一版的ssh连接执行login_shell(如/bin/bash)命令\n",
    "```\n",
    "\n",
    "## 远程转发\n",
    "```\n",
    "ssh -R 6666:192.168.8.14:22 -fN admin@192.168.8.16\n",
    "将连接到远程主机上给定TCP端口(192.168.8.16:6666)的连接转发到本地端(192.168.8.14:22)\n",
    "```"
   ]
  }
 ],
 "metadata": {
  "language_info": {
   "name": "python"
  }
 },
 "nbformat": 4,
 "nbformat_minor": 2
}
