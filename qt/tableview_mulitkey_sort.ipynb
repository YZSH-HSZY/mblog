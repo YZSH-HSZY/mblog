{
 "cells": [
  {
   "cell_type": "markdown",
   "id": "e7ddcbf1",
   "metadata": {},
   "source": [
    "---\n",
    "Title: QTableView Multi-Key Sort\n",
    "Date: 2025-09-01 12:00\n",
    "Lang: zh-cn\n",
    "Category: Qt\n",
    "---"
   ]
  },
  {
   "cell_type": "markdown",
   "id": "24a1d2c8",
   "metadata": {},
   "source": [
    "# 介绍\n",
    "\n",
    "\n",
    "在Qt的Tableview中让数据按多个指定项有序, 类似基数排序"
   ]
  },
  {
   "cell_type": "markdown",
   "id": "e4a9b4c9",
   "metadata": {},
   "source": [
    "## key固定, 不会动态更改排序key\n",
    "\n",
    "### 使用自定义model实现静态多key有序\n",
    "\n",
    "> 继承 `QAbstractTableModel` 实现自定义`TableModel`\n",
    "> 重写以下方法:\n",
    "```cpp\n",
    "QVariant data(const QModelIndex& index, int role = Qt::DisplayRole) const override;\n",
    "int rowCount(const QModelIndex &parent = QModelIndex()) const override;\n",
    "int columnCount(const QModelIndex &parent = QModelIndex()) const override;\n",
    "QVariant headerData(int section, Qt::Orientation orientation, int role = Qt::DisplayRole) const override;\n",
    "```\n",
    "> 使用 `QMap` 存储实际数据\n",
    "> 使用自定义 `POD` 类型作为 `QMap` 的key, 并重载 `openator<` 函数\n"
   ]
  },
  {
   "cell_type": "code",
   "execution_count": 20,
   "id": "c1e80420",
   "metadata": {},
   "outputs": [
    {
     "name": "stdout",
     "output_type": "stream",
     "text": [
      "Overwriting main.cpp\n"
     ]
    }
   ],
   "source": [
    "%%writefile main.cpp\n",
    "\n",
    "struct TableModelMapKey {\n",
    "    int first;\n",
    "    int sencond;\n",
    "    int trhird;\n",
    "    bool operator<(const TableModelMapKey& o) const {\n",
    "        if (first != o.first) return first < o.first;\n",
    "        else if (sencond != o.sencond) return sencond < o.sencond;\n",
    "        else if (trhird != o.trhird) return trhird < o.trhird;\n",
    "        return false;\n",
    "    }\n",
    "};\n",
    "QMap<TableModelMapKey, QString> _m_datas;"
   ]
  },
  {
   "cell_type": "markdown",
   "id": "d50a7863",
   "metadata": {},
   "source": [
    "> QMap定义为Template, 其中key\n",
    "```cpp\n",
    "template <class Key, class T>\n",
    "class QMap\n",
    "{\n",
    "    typedef QMapNode<Key, T> Node;\n",
    "\n",
    "    QMapData<Key, T> *d;\n",
    "    ...\n",
    "}\n",
    "```"
   ]
  },
  {
   "cell_type": "code",
   "execution_count": 18,
   "id": "89d6beb4",
   "metadata": {},
   "outputs": [],
   "source": [
    "!g++ main.cpp `PKG_CONFIG_PATH=$PKG_CONFIG_PATH:/home/smartwork/work/qtbase-69ce741c186c9a1dd4ea9eecb7a51725c4e62342/install/lib/pkgconfig pkg-config --libs --cflags Qt6Core` -o main.exe"
   ]
  },
  {
   "cell_type": "code",
   "execution_count": 19,
   "id": "a0b8b0df",
   "metadata": {},
   "outputs": [
    {
     "name": "stdout",
     "output_type": "stream",
     "text": [
      "Hello World!\n",
      "\n"
     ]
    }
   ],
   "source": [
    "!LD_LIBRARY_PATH=/home/smartwork/work/qtbase-69ce741c186c9a1dd4ea9eecb7a51725c4e62342/install/lib/ ./main.exe"
   ]
  },
  {
   "cell_type": "code",
   "execution_count": 11,
   "id": "a4cf6f41",
   "metadata": {},
   "outputs": [
    {
     "name": "stdout",
     "output_type": "stream",
     "text": [
      "/home/smartwork/work/mblog/qt\n",
      "CPU times: user 0 ns, sys: 450 μs, total: 450 μs\n",
      "Wall time: 463 μs\n"
     ]
    }
   ],
   "source": [
    "%%time\n",
    "import os\n",
    "\n",
    "print(os.getcwd())"
   ]
  },
  {
   "cell_type": "code",
   "execution_count": null,
   "id": "32588507",
   "metadata": {},
   "outputs": [],
   "source": []
  }
 ],
 "metadata": {
  "kernelspec": {
   "display_name": "pelican_dev",
   "language": "python",
   "name": "python3"
  },
  "language_info": {
   "codemirror_mode": {
    "name": "ipython",
    "version": 3
   },
   "file_extension": ".py",
   "mimetype": "text/x-python",
   "name": "python",
   "nbconvert_exporter": "python",
   "pygments_lexer": "ipython3",
   "version": "3.12.3"
  }
 },
 "nbformat": 4,
 "nbformat_minor": 5
}
