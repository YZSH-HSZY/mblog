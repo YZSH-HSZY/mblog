{
 "cells": [
  {
   "cell_type": "code",
   "execution_count": null,
   "metadata": {},
   "outputs": [],
   "source": [
    "import atexit\n",
    "from datetime import datetime\n",
    "import threading\n",
    "from time import sleep\n",
    "def test_p():\n",
    "    print('this is test', str(datetime.now().strftime(\"%d/%m/%Y, %H:%M:%S\")))\n",
    "    assert 1 == 1\n",
    "# atexit.register(test_p)\n",
    "    \n",
    "def thread_print():\n",
    "    i = 0\n",
    "    while i < 1e3:\n",
    "        sleep(.001)\n",
    "        i += 1\n",
    "    print('threading end print')\n",
    "def end_print(*args):\n",
    "    print('atexiting print')\n",
    "    print(args)\n",
    "    if isinstance(args[0], threading.Thread):\n",
    "        p = args[0]\n",
    "        print(p, p.is_alive(), p.name)\n",
    "        p.join()\n",
    "p = threading.Thread(\n",
    "    target=thread_print,\n",
    "    args=[]\n",
    ")\n",
    "# 1. 对应主进程来说，并不是主线程退出了，主进程就会退出\n",
    "#   > 而是主进程会等待所有在前景的线程结束才会退出\n",
    "# 2. 如果线程设置了守护标志，是一个背景线程daemon,那么主进程不会等待其执行完成才退出\n",
    "#   > 一般无限循环检测标志或为其他线程提供服务的线程被设置为守护线程\n",
    "# \n",
    "p.setDaemon(True)\n",
    "p.start()\n",
    "atexit.register(end_print, p)\n",
    "\n"
   ]
  }
 ],
 "metadata": {
  "language_info": {
   "name": "python"
  }
 },
 "nbformat": 4,
 "nbformat_minor": 2
}
