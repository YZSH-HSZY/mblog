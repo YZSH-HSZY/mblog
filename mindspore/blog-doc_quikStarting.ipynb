{
 "cells": [
  {
   "cell_type": "markdown",
   "id": "04e95bcb-1979-4629-ab3e-f38da4d88d96",
   "metadata": {},
   "source": [
    "---\n",
    "Title: MindSpore Learen Notes -- QuikStart.\n",
    "Date: 2024-07-01 12:00\n",
    "Lang: zh-cn\n",
    "Category: MindSpore\n",
    "---"
   ]
  },
  {
   "cell_type": "markdown",
   "id": "c369599d",
   "metadata": {},
   "source": [
    "\n",
    "# mindspore介绍\n",
    "昇思MindSpore是一个全场景深度学习框架，旨在实现易开发、高效执行、全场景统一部署三大目标。\n",
    "昇思提供一系列配套设施能够为简化深度学习过程，并提供一些工具用于辅助开发AI项目。\n",
    "\n",
    "## mindspore名词解释\n",
    "\n",
    "- shuffle(清洗)\n",
    "数据集随机shuffle可以消除数据排列造成的分布不均问题。\n",
    "\n",
    "- map(映射，一般用于变换)\n",
    "map操作是数据预处理的关键操作，可以针对数据集指定列（column）添加数据变换（Transforms），将数据变换应用于该列数据的每个元素，并返回包含变换后元素的新数据集。\n",
    "\n",
    "- batch(批大小,统一批操作时数据保持相同形状)\n",
    "将数据集打包为固定大小的batch是在有限硬件资源下使用梯度下降进行模型优化的折中方法，可以保证梯度下降的随机性和优化计算量。\n",
    "\n",
    "> 设置batch后，在随后的数据集每一次迭代获取数据时，返回一个batch大小的批数据。\n",
    "\n",
    "- 自定义数据集\n",
    "mindspore.dataset 模块提供了一些常用的公开数据集(公开数据集请使用download下载，dataset只能加载本地数据集)和标准格式数据集的加载API。\n",
    "\n",
    "对于MindSpore暂不支持直接加载的数据集，可以构造自定义数据加载类或自定义数据集生成函数的方式来生成数据集，然后通过GeneratorDataset接口实现自定义方式的数据集加载。\n",
    "\n",
    "GeneratorDataset支持通过可随机访问数据集对象、可迭代数据集对象和生成器(generator)构造自定义数据集，下面分别对其进行介绍。\n",
    "\n",
    "- 可随机访问数据集\n",
    "可随机访问数据集是实现了__getitem__和__len__方法的数据集，表示可以通过索引/键直接访问对应位置的数据样本。\n",
    "\n",
    "- 可迭代数据集\n",
    "可迭代的数据集是实现了__iter__和__next__方法的数据集，表示可以通过迭代的方式逐步获取数据样本。这种类型的数据集特别适用于随机访问成本太高或者不可行的情况。\n",
    "\n",
    "- 生成器\n",
    "生成器也属于可迭代的数据集类型，其直接依赖Python的生成器类型generator返回数据，直至生成器抛出StopIteration异常。\n",
    "\n",
    "- RGB图像格式\n",
    "rgb图像是常见的彩色图像格式，但他在计算机内存中的存储顺序通常是按照BGR的顺序排列的。因为在Windows平台上，像素数据是按照BGR的顺序存储在内存中的。因此，当OpenCV之类的图像库读取一张RGB图像时，它会将像素数据按照BGR的顺序排列在内存中，而不是RGB的顺序。\n",
    "\n",
    "- HWC格式\n",
    "HWC格式是指按照高度、宽度和通道数的顺序排列图像尺寸的格式。例如，一张形状为256×256×3的RGB图像，在HWC格式中表示为[256, 256, 3]。在一些图像处理库或者底层框架中，例如OpenCV和TensorFlow，通常使用HWC格式表示图像尺寸。\n",
    "\n",
    "- CHW格式\n",
    "CHW格式是指按照通道数、高度和宽度的顺序排列图像尺寸的格式。在计算机视觉和深度学习中，通常使用CHW格式表示图像尺寸。如PyTorch等，因此转换CHW格式和HWC格式是有必要的。\n",
    "\n",
    "## 实战\n",
    "\n",
    "\n"
   ]
  },
  {
   "cell_type": "code",
   "execution_count": 8,
   "id": "6ab73f96-13a6-4fbf-b576-9d642f5f5cf0",
   "metadata": {
    "tags": []
   },
   "outputs": [
    {
     "name": "stdout",
     "output_type": "stream",
     "text": [
      "mindspore base moudle import\n"
     ]
    }
   ],
   "source": [
    "import mindspore\n",
    "from mindspore import nn\n",
    "from mindspore.dataset import vision, transforms\n",
    "from mindspore.dataset import MnistDataset\n",
    "print('mindspore base moudle import')\n",
    "\n",
    "# mindspore.dataset 模块提供api来加载和处理各种常用数据集，如MNIST、CIFAR-10, CIFAR-100, VOC, COCO, ImageNet, CelebA, CLUE等\n",
    "# 它还支持数据集包括 MindRecord、TFRecord、Manifest等。用户还可以定义他们自己的数据集在这个模块。此外，该模块还提供了在加载时采样数据的api。"
   ]
  },
  {
   "cell_type": "code",
   "execution_count": 6,
   "id": "3ab77f6c-2138-4be4-ac82-368eaffb785e",
   "metadata": {
    "tags": []
   },
   "outputs": [
    {
     "name": "stdout",
     "output_type": "stream",
     "text": [
      "Downloading data from https://mindspore-website.obs.cn-north-4.myhuaweicloud.com/notebook/datasets/MNIST_Data.zip (10.3 MB)\n",
      "\n",
      "file_sizes: 100%|███████████████████████████| 10.8M/10.8M [00:00<00:00, 136MB/s]\n",
      "Extracting zip file...\n",
      "Successfully downloaded / unzipped to ./\n"
     ]
    }
   ],
   "source": [
    "# MNIST_Data数据集下载\n",
    "# mnist数据集是由美国国家标准与技术研究所提供的手写数字图片数据集\n",
    "from download import download\n",
    "\n",
    "url = \"https://mindspore-website.obs.cn-north-4.myhuaweicloud.com/\" \\\n",
    "      \"notebook/datasets/MNIST_Data.zip\"\n",
    "path = download(url, \"./\", kind=\"zip\", replace=True)"
   ]
  },
  {
   "cell_type": "code",
   "execution_count": 10,
   "id": "6d5af88d-3c2c-4aaa-99ec-09a4ee206e75",
   "metadata": {
    "tags": []
   },
   "outputs": [
    {
     "name": "stdout",
     "output_type": "stream",
     "text": [
      "\n",
      "    MNIST dataset.\n",
      "\n",
      "    The generated dataset has two columns :py:obj:`[image, label]` .\n",
      "    The tensor of column :py:obj:`image` is of the uint8 type.\n",
      "    The tensor of column :py:obj:`label` is a scalar of the uint32 type.\n",
      "\n",
      "    Args:\n",
      "        dataset_dir (str): Path to the root directory that contains the dataset.\n",
      "        usage (str, optional): Usage of this dataset, can be ``'train'`` , ``'test'`` or ``'all'`` .\n",
      "            ``'train'`` will read from 60,000 train samples, ``'test'`` will read from 10,000 test samples,\n",
      "            ``'all'`` will read from all 70,000 samples. Default: ``None`` , will read all samples.\n",
      "        num_samples (int, optional): The number of images to be included in the dataset.\n",
      "            Default: ``None`` , will read all images.\n",
      "        num_parallel_workers (int, optional): Number of worker threads to read the data.\n",
      "            Default: ``None`` , will use global default workers(8), it can be set\n",
      "            by :func:`mindspore.dataset.config.set_num_parallel_workers` .\n",
      "        shuffle (bool, optional): Whether or not to perform shuffle on the dataset.\n",
      "            Default: ``None`` , expected order behavior shown in the table below.\n",
      "        sampler (Sampler, optional): Object used to choose samples from the\n",
      "            dataset. Default: ``None`` , expected order behavior shown in the table below.\n",
      "        num_shards (int, optional): Number of shards that the dataset will be divided into. Default: ``None`` .\n",
      "            When this argument is specified, `num_samples` reflects the maximum sample number of per shard.\n",
      "        shard_id (int, optional): The shard ID within `num_shards` . Default: ``None`` . This\n",
      "            argument can only be specified when `num_shards` is also specified.\n",
      "        cache (DatasetCache, optional): Use tensor caching service to speed up dataset processing. More details:\n",
      "            `Single-Node Data Cache <https://www.mindspore.cn/tutorials/experts/en/r2.2/dataset/cache.html>`_ .\n",
      "            Default: ``None`` , which means no cache is used.\n",
      "\n",
      "    Raises:\n",
      "        RuntimeError: If `dataset_dir` does not contain data files.\n",
      "        ValueError: If `num_parallel_workers` exceeds the max thread numbers.\n",
      "        ValueError: If `usage` is not ``'train'``、``'test'`` or ``'all'``.\n",
      "        RuntimeError: If `sampler` and `shuffle` are specified at the same time.\n",
      "        RuntimeError: If `sampler` and `num_shards`/`shard_id` are specified at the same time.\n",
      "        RuntimeError: If `num_shards` is specified but shard_id is None.\n",
      "        RuntimeError: If `shard_id` is specified but `num_shards` is None.\n",
      "        ValueError: If `shard_id` is not in range of [0, `num_shards` ).\n",
      "\n",
      "    Tutorial Examples:\n",
      "        - `Load & Process Data With Dataset Pipeline\n",
      "          <https://www.mindspore.cn/docs/en/r2.2/api_python/samples/dataset/dataset_gallery.html>`_\n",
      "\n",
      "    Note:\n",
      "        - The parameters `num_samples` , `shuffle` , `num_shards` , `shard_id` can be used to control the sampler\n",
      "          used in the dataset, and their effects when combined with parameter `sampler` are as follows.\n",
      "\n",
      "    .. include:: mindspore.dataset.sampler.txt\n",
      "\n",
      "    Examples:\n",
      "        >>> import mindspore.dataset as ds\n",
      "        >>> mnist_dataset_dir = \"/path/to/mnist_dataset_directory\"\n",
      "        >>>\n",
      "        >>> # Read 3 samples from MNIST dataset\n",
      "        >>> dataset = ds.MnistDataset(dataset_dir=mnist_dataset_dir, num_samples=3)\n",
      "        >>>\n",
      "        >>> # Note: In mnist_dataset dataset, each dictionary has keys \"image\" and \"label\"\n",
      "\n",
      "    About MNIST dataset:\n",
      "\n",
      "    The MNIST database of handwritten digits has a training set of 60,000 examples,\n",
      "    and a test set of 10,000 examples. It is a subset of a larger set available from\n",
      "    NIST. The digits have been size-normalized and centered in a fixed-size image.\n",
      "\n",
      "    Here is the original MNIST dataset structure.\n",
      "    You can unzip the dataset files into this directory structure and read by MindSpore's API.\n",
      "\n",
      "    .. code-block::\n",
      "\n",
      "        .\n",
      "        └── mnist_dataset_dir\n",
      "             ├── t10k-images-idx3-ubyte\n",
      "             ├── t10k-labels-idx1-ubyte\n",
      "             ├── train-images-idx3-ubyte\n",
      "             └── train-labels-idx1-ubyte\n",
      "\n",
      "    Citation:\n",
      "\n",
      "    .. code-block::\n",
      "\n",
      "        @article{lecun2010mnist,\n",
      "        title        = {MNIST handwritten digit database},\n",
      "        author       = {LeCun, Yann and Cortes, Corinna and Burges, CJ},\n",
      "        journal      = {ATT Labs [Online]},\n",
      "        volume       = {2},\n",
      "        year         = {2010},\n",
      "        howpublished = {http://yann.lecun.com/exdb/mnist}\n",
      "        }\n",
      "    \n"
     ]
    }
   ],
   "source": [
    "print(MnistDataset.__doc__)\n",
    "# mnist数据集包含以下内容\n",
    "# mnist_dataset_dir\n",
    " # ├── t10k-images-idx3-ubyte (10000个测试图片)\n",
    " # ├── t10k-labels-idx1-ubyte (10000个测试标签)\n",
    " # ├── train-images-idx3-ubyte (60000个训练图片)\n",
    " # └── train-labels-idx1-ubyte (60000个训练标签)"
   ]
  },
  {
   "cell_type": "code",
   "execution_count": 30,
   "id": "a406c40a-f2cf-4454-a131-543392235bda",
   "metadata": {
    "tags": []
   },
   "outputs": [
    {
     "name": "stdout",
     "output_type": "stream",
     "text": [
      "dataset: <class 'mindspore.dataset.engine.datasets_vision.MnistDataset'>\n",
      "dataset`s cloumns is:  ['image', 'label']\n"
     ]
    },
    {
     "data": {
      "image/png": "[encoded data removed]",
      "text/plain": [
       "<Figure size 400x400 with 9 Axes>"
      ]
     },
     "metadata": {},
     "output_type": "display_data"
    }
   ],
   "source": [
    "# 查看MNIST_Data数据集内容\n",
    "\n",
    "import numpy as np\n",
    "import matplotlib.pyplot as plt\n",
    "# 加载数据集，包含图像和标签两部分\n",
    "train_dataset = MnistDataset(\"MNIST_Data/train\", shuffle=False)\n",
    "print('dataset:', type(train_dataset))\n",
    "print('dataset`s cloumns is: ', train_dataset.get_col_names())\n",
    "\n",
    "def visualize(dataset):\n",
    "    \"\"\"\n",
    "    查看数据集中部分内容，这里是图片\n",
    "    Args:\n",
    "        dataset (_type_): 数据集\n",
    "    \"\"\"\n",
    "    figure = plt.figure(figsize=(4, 4))\n",
    "    cols, rows = 3, 3\n",
    "\n",
    "    plt.subplots_adjust(wspace=0.5, hspace=0.5)\n",
    "\n",
    "    for idx, (image, label) in enumerate(dataset.create_tuple_iterator()):\n",
    "        figure.add_subplot(rows, cols, idx + 1)\n",
    "        plt.title(int(label))\n",
    "        plt.axis(\"off\")\n",
    "        plt.imshow(image.asnumpy().squeeze(), cmap=\"gray\")\n",
    "        if idx == cols * rows - 1:\n",
    "            break\n",
    "    plt.show()\n",
    "visualize(train_dataset)\n"
   ]
  },
  {
   "cell_type": "code",
   "execution_count": 34,
   "id": "4ea2c36f-5139-4244-b8e8-c42da831de7b",
   "metadata": {},
   "outputs": [
    {
     "name": "stdout",
     "output_type": "stream",
     "text": [
      "the img chw is :  (28, 28, 1)\n",
      "the label is :  5\n"
     ]
    }
   ],
   "source": [
    "img, label = next(train_dataset.create_tuple_iterator())\n",
    "print('the img chw is : ', img.shape) # mnist数据中每张图像是一个25*25的灰度图\n",
    "print('the label is : ', label)\n",
    "\n",
    "def datapipe(dataset: MnistDataset, batch_size: int):\n",
    "    image_transforms = [\n",
    "        vision.Rescale(1.0 / 255.0, 0), # 将图像进行缩放处理\n",
    "        vision.Normalize(mean=(0.1307,), std=(0.3081,)), # 将图像进行归一化处理\n",
    "        vision.HWC2CHW() \n",
    "    ]\n",
    "    label_transform = transforms.TypeCast(mindspore.int32)\n",
    "    \n",
    "    dataset = dataset.map(image_transforms, input_columns='image')\n",
    "    dataset = dataset.map(label_transform, input_columns='label')\n",
    "    dataset = dataset.batch(batch_size)\n",
    "    return dataset"
   ]
  },
  {
   "cell_type": "code",
   "execution_count": 27,
   "id": "1b352033-f3ed-48e5-80dc-f5cbb2069ffb",
   "metadata": {
    "tags": []
   },
   "outputs": [
    {
     "data": {
      "text/plain": [
       "mindspore.dataset.engine.datasets_vision.MnistDataset"
      ]
     },
     "execution_count": 27,
     "metadata": {},
     "output_type": "execute_result"
    }
   ],
   "source": [
    "# 数据处理\n",
    "test_dataset = MnistDataset('MNIST_Data/test')\n",
    "\n",
    "train_dataset = datapipe(train_dataset, 64)\n",
    "test_dataset = datapipe(test_dataset, 64)"
   ]
  },
  {
   "cell_type": "markdown",
   "id": "b5f8a1ca-8cf1-4f47-8fed-b3b34cbd8df3",
   "metadata": {
    "tags": []
   },
   "source": [
    "### 网络构建\n",
    "神经网络模型是由神经网络层和Tensor操作构成的，mindspore.nn 提供了常见神经网络层的实现，在MindSpore中，Cell类是构建所有网络的基类，也是网络的基本单元。一个神经网络模型表示为一个Cell，它由不同的子Cell构成。使用这样的嵌套结构，可以简单地使用面向对象编程的思维，对神经网络结构进行构建和管理。\n",
    "\n",
    "1. 定义模型类\n",
    "当我们定义神经网络时，可以继承 nn.Cell 类，在__init__方法中进行子Cell的实例化和状态管理，在construct(构造)方法中实现Tensor操作。\n",
    "\n",
    "**construct意为神经网络（或计算图）构建，相关内容详见使用静态图加速。construct()方法不可直接调用**\n"
   ]
  },
  {
   "cell_type": "code",
   "execution_count": 36,
   "id": "5663c2d7-7aba-4279-890e-716b10cd33ff",
   "metadata": {
    "tags": []
   },
   "outputs": [
    {
     "name": "stdout",
     "output_type": "stream",
     "text": [
      "Net<\n",
      "  (flatten): Flatten<>\n",
      "  (dense_relu_sequential): SequentialCell<\n",
      "    (0): Dense<input_channels=784, output_channels=512, has_bias=True>\n",
      "    (1): ReLU<>\n",
      "    (2): Dense<input_channels=512, output_channels=512, has_bias=True>\n",
      "    (3): ReLU<>\n",
      "    (4): Dense<input_channels=512, output_channels=10, has_bias=True>\n",
      "    >\n",
      "  >\n"
     ]
    }
   ],
   "source": [
    "class Net(nn.Cell):\n",
    "    def __init__(self):\n",
    "        super().__init__()\n",
    "        self.flatten = nn.Flatten()\n",
    "        self.dense_relu_sequential = nn.SequentialCell(\n",
    "            nn.Dense(28*28, 512),\n",
    "            nn.ReLU(),\n",
    "            nn.Dense(512, 512),\n",
    "            nn.ReLU(),\n",
    "            nn.Dense(512, 10)\n",
    "        )\n",
    "        \n",
    "    def construct(self, x):\n",
    "        x = self.flatten(x)\n",
    "        logits = self.dense_relu_sequential(x)\n",
    "        return logits\n",
    "model = Net()\n",
    "# 查看神经网络结构\n",
    "print(model)"
   ]
  },
  {
   "cell_type": "code",
   "execution_count": 38,
   "id": "7dd701b1-e3cc-4f38-991b-df090ed1ac57",
   "metadata": {
    "tags": []
   },
   "outputs": [
    {
     "name": "stdout",
     "output_type": "stream",
     "text": [
      "2024-06-28 21:12:18.029531+08:00\n"
     ]
    }
   ],
   "source": [
    "from datetime import datetime\n",
    "import pytz\n",
    "print(datetime.now(pytz.timezone('Asia/Shanghai')))"
   ]
  }
 ],
 "metadata": {
  "kernelspec": {
   "display_name": "Python 3 (ipykernel)",
   "language": "python",
   "name": "python3"
  },
  "language_info": {
   "codemirror_mode": {
    "name": "ipython",
    "version": 3
   },
   "file_extension": ".py",
   "mimetype": "text/x-python",
   "name": "python",
   "nbconvert_exporter": "python",
   "pygments_lexer": "ipython3",
   "version": "3.9.19"
  }
 },
 "nbformat": 4,
 "nbformat_minor": 5
}
