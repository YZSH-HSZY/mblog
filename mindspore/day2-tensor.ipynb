{
 "cells": [
  {
   "cell_type": "markdown",
   "id": "989805e9",
   "metadata": {},
   "source": [
    "---\n",
    "Title: Mindspore Learen Notes -- Tensor Understand.\n",
    "Date: 2024-07-02 12:00\n",
    "Lang: zh-cn\n",
    "Category: Mindspore\n",
    "---"
   ]
  },
  {
   "cell_type": "markdown",
   "id": "38ed9f37-6286-4ed3-b9b4-d7bdfe7b48d4",
   "metadata": {},
   "source": [
    "## 张量介绍\n",
    "张量（Tensor）是一个可用来表示在一些矢量、标量和其他张量之间的线性关系的多线性函数，这些线性关系的基本例子有内积、外积、线性映射以及笛卡儿积。其坐标在 𝑛 维空间内，有 $n^r$ 个分量的一种量，其中每个分量都是坐标的函数，而在坐标变换时，这些分量也依照某些规则作线性变换。 𝑟 称为该张量的秩或阶（与矩阵的秩和阶均无关系）。\n",
    "\n",
    "**注意** 张量是一种特殊的数据结构，与数组和矩阵非常相似。张量（Tensor）是MindSpore网络运算中的基本数据结构，本教程主要介绍张量和稀疏张量的属性及用法。\n",
    "\n",
    "## 张量与矩阵与数组与向量的区别\n",
    "在numpy中，数据的结构有数组、矩阵、向量这几种描述方式，而在深度学习中通常使用张量来描述所有数据和相应的变换关系。在参与运算时他们之间的差距通常非常小，但却是不同角度下的描述，因此正确的理解并区分他们是必要的。\n",
    "\n"
   ]
  },
  {
   "cell_type": "code",
   "execution_count": 3,
   "id": "dd76b4eb-cfdd-499e-9574-c500ef2120cf",
   "metadata": {
    "tags": []
   },
   "outputs": [
    {
     "name": "stdout",
     "output_type": "stream",
     "text": [
      "moudel import success\n"
     ]
    }
   ],
   "source": [
    "# mindspore base moudel import\n",
    "import numpy as np\n",
    "import mindspore\n",
    "from mindspore import ops\n",
    "from mindspore import Tensor, CSRTensor, COOTensor\n",
    "print('moudel import success')"
   ]
  },
  {
   "cell_type": "markdown",
   "id": "288f011f-a783-4e70-b597-89c14793e38c",
   "metadata": {},
   "source": [
    "### a base tensor create\n",
    "构造张量时，支持传入Tensor、float、int、bool、tuple、list、complex和numpy.ndarray类型。\n",
    "1. 根据数据直接生成\n",
    "可以根据数据创建张量，数据类型可以设置或者通过框架自动推断。"
   ]
  },
  {
   "cell_type": "code",
   "execution_count": 19,
   "id": "33d15737-99e1-4a6b-b4ea-316433e7902e",
   "metadata": {
    "tags": []
   },
   "outputs": [
    {
     "name": "stdout",
     "output_type": "stream",
     "text": [
      "int_tensor ;value is : 1 ;shape is : () ;dtype is : Int64\n",
      "float_tensor ;value is : 1.0 ;shape is : () ;dtype is : Float32\n",
      "bool_tensor ;value is : True ;shape is : () ;dtype is : Bool\n",
      "tuple_tensor ;value is : [1 2] ;shape is : (2,) ;dtype is : Int64\n",
      "list_tensor ;value is : [1 3] ;shape is : (2,) ;dtype is : Int64\n",
      "complex_tensor ;value is : (1+9j) ;shape is : () ;dtype is : Complex128\n",
      "nd_tensor 281468910652768 (2, 2) Float32\n",
      "cp_tensor 281468910653168 (2, 2) Float32\n"
     ]
    }
   ],
   "source": [
    "# python原生类型\n",
    "int_tensor = Tensor(1)\n",
    "float_tensor = Tensor(1.)\n",
    "bool_tensor = Tensor(True)\n",
    "tuple_tensor = Tensor((1,2))\n",
    "list_tensor = Tensor([1,3])\n",
    "complex_tensor = Tensor(complex(1,9))\n",
    "temp_dict = locals()\n",
    "for k,v in temp_dict.items():\n",
    "    if k.endswith('tensor') and isinstance(v, Tensor):\n",
    "        print(\n",
    "            k, \n",
    "            ';value is :', v,\n",
    "            ';shape is :', v.shape,\n",
    "            ';dtype is :', v.dtype\n",
    "        )\n",
    "# Tensor、numpy.ndarray类型\n",
    "nd_tensor = Tensor(np.array([[1,2],[3,4]], dtype=np.float32))\n",
    "print('nd_tensor', id(nd_tensor), nd_tensor.shape, nd_tensor.dtype)\n",
    "cp_tensor = Tensor(nd_tensor)\n",
    "print('cp_tensor', id(cp_tensor), cp_tensor.shape, cp_tensor.dtype)"
   ]
  },
  {
   "cell_type": "markdown",
   "id": "93136b55-9ce6-44b0-8da7-7a32de248ff6",
   "metadata": {},
   "source": [
    "2. 使用init初始化器构造张量\n",
    "\n",
    "当使用init初始化器对张量进行初始化时，支持传入的参数有init、shape、dtype。\n",
    "\n",
    "- init: 支持传入initializer的子类。如：下方示例中的 One() 和 Normal()。\n",
    "\n",
    "- shape: 支持传入 list、tuple、 int。\n",
    "\n",
    "- dtype: 支持传入mindspore.dtype。"
   ]
  },
  {
   "cell_type": "code",
   "execution_count": 20,
   "id": "6e250817-b046-4c14-b5fc-c43accdc0fae",
   "metadata": {
    "tags": []
   },
   "outputs": [
    {
     "name": "stdout",
     "output_type": "stream",
     "text": [
      "tensor1:\n",
      " [[1. 1.]\n",
      " [1. 1.]]\n"
     ]
    }
   ],
   "source": [
    "from mindspore.common.initializer import One, Normal\n",
    "\n",
    "# Initialize a tensor with ones\n",
    "tensor1 = mindspore.Tensor(shape=(2, 2), dtype=mindspore.float32, init=One())\n",
    "print(\"tensor1:\\n\", tensor1)"
   ]
  },
  {
   "cell_type": "markdown",
   "id": "fa661fed-0972-45c5-b584-fd6cb2258330",
   "metadata": {},
   "source": [
    "Normal初始化器会将数据进行正太分布处理，公式如下:\n",
    "$f(x) =  \\frac{1} {\\sqrt{2*π} * sigma}exp(-\\frac{(x - mean)^2} {2*{sigma}^2})$\n",
    "参数默认值 sigma=0.01, mean=0.0，生成的x元素为随机值"
   ]
  },
  {
   "cell_type": "code",
   "execution_count": 21,
   "id": "b66ba7e0-0841-4283-86df-1d7bb164c0d6",
   "metadata": {
    "tags": []
   },
   "outputs": [
    {
     "name": "stdout",
     "output_type": "stream",
     "text": [
      "tensor2:\n",
      " [[ 0.01408593  0.00398565  0.01824992]\n",
      " [-0.00208053  0.01520424  0.01576259]]\n"
     ]
    }
   ],
   "source": [
    "# Initialize a tensor from normal distribution\n",
    "tensor2 = mindspore.Tensor(shape=(2, 3), dtype=mindspore.float32, init=Normal())\n",
    "print(\"tensor2:\\n\", tensor2)"
   ]
  },
  {
   "cell_type": "markdown",
   "id": "a2cd1f9a-8915-45ce-8932-0f5fd325a088",
   "metadata": {},
   "source": [
    "> 在我探究Normal()作用时，注意到另一个和 `mindspore.Tensor` 类似的类 `mindspore._c_expression.Tensor`,那么他们有什么区别呢？\n",
    "\n",
    "> 为了解决这个问题，我编写了以下python代码验证："
   ]
  },
  {
   "cell_type": "code",
   "execution_count": 22,
   "id": "52703f9d-95e2-4d35-a977-30517dce2cfc",
   "metadata": {
    "tags": []
   },
   "outputs": [
    {
     "name": "stdout",
     "output_type": "stream",
     "text": [
      "the _c_expression so library file path is : /home/nginx/miniconda/envs/jupyter/lib/python3.9/site-packages/mindspore/_c_expression.cpython-39-aarch64-linux-gnu.so\n",
      "--------------------\n",
      "mindspore.Tensor and mindspore._c_expression.Tensor has some attrs is : _dtype _flatten_tensors _flush_from_cache _get_flattened_tensors _get_fusion_size _is_flattened _is_test_stub _itemsize _nbytes _shape _size _strides adapter_flag assign_value_cpp data_sync dim getitem_index_info init_flag is_init offload offload_file_path param_info persistent_data_from_numpy set_cast_dtype set_dtype set_init_flag setitem_index_info\n",
      "all some attrs nums is : 27\n",
      "--------------------\n",
      "mindspore.Tensor and mindspore._c_expression.Tensor has diff attrs is : _offload asnumpy asnumpy_of_slice_persistent_data contiguous dtype from_numpy get_bytes is_contiguous is_persistent_data shape\n",
      "all diff attrs nums is : 10\n"
     ]
    }
   ],
   "source": [
    "from mindspore._c_expression import Tensor as Tensor_\n",
    "import mindspore._c_expression as _c\n",
    "# 这个_c_expression是一个so库文件，可以通过__file__属性查看其所在位置\n",
    "print('the _c_expression so library file path is :', _c.__file__)\n",
    "some_list = []  # 记载Tensor_和Tensor自身属性地址相同部分\n",
    "diff_list = []\n",
    "for k in dir(Tensor_):\n",
    "    if k.startswith('__'): continue\n",
    "    if id(getattr(Tensor_, k)) == id(getattr(Tensor,k)):\n",
    "        some_list.append(k)\n",
    "    else:\n",
    "        diff_list.append(k)\n",
    "print('-' * 20)\n",
    "print('mindspore.Tensor and mindspore._c_expression.Tensor has some attrs is :',\n",
    "      ' '.join(some_list))\n",
    "print('all some attrs nums is :', len(some_list))\n",
    "print('-' * 20)\n",
    "print('mindspore.Tensor and mindspore._c_expression.Tensor has diff attrs is :',\n",
    "       ' '.join(diff_list))\n",
    "print('all diff attrs nums is :', len(diff_list))"
   ]
  },
  {
   "cell_type": "markdown",
   "id": "0fd0bb5b-adcf-4489-8aed-fc0d8a077677",
   "metadata": {},
   "source": [
    "可以看到Tensor_和Tensor大部分属性的均指向同一地址，因为_c_expression是一个库扩展模块，要想更加详细的了解他们之间区别，需要去查看对应的c++源码实现。\n",
    "这里只列出部分我探究的内容，更详细的解析请自行查看源码。\n",
    "<!-- TODO 未完成，仅列出部分以记录 -->\n",
    "1. python类Tensor的init方法在`mindspore\\python\\mindspore\\common\\tensor.py`;在其初始化方法中最终均会调用`Tensor_.__init__`方法\n",
    "2. mindspore编写python扩展`_c_expression`是通过`pybind11`进行的，在`mindspore\\ccsrc\\CMakeLists.txt`文件中存在调用`pybind11_add_module`的cmake宏进行py模块绑定，对应文件为`mindspore\\ccsrc\\pipeline\\jit\\ps\\init.cc`，内有`PYBIND11_MODULE(_c_expression, m)` 进行`_c_expression`模块的具体代码绑定。\n",
    "3. 第2步中，`_c_expression`模块缺少py::class Tensor的绑定，我只在`mindspore\\ccsrc\\pybind_api\\ir\\tensor_py.cc`中找到 `mindspore.Tensor` 的绑定代码。\n",
    "4. 进一步研究发现，`tensor_py.cc`对应的`py::class Tensor`绑定代码在函数`RegMetaTensor`中，会被`RegModule`调用，最终在`PYBIND11_MODULE`中通过`mindspore::RegModuleHelper`调用绑定，而`mindspore.Tensor`继承自`_c_expression.Tensor`类，可以通过类的mro方法查看继承关系。\n"
   ]
  },
  {
   "cell_type": "code",
   "execution_count": 23,
   "id": "3ebe2d6f-8132-46c4-9b0d-56a42c4eca97",
   "metadata": {
    "tags": []
   },
   "outputs": [
    {
     "name": "stdout",
     "output_type": "stream",
     "text": [
      "[<class 'mindspore.common.tensor.Tensor'>, <class 'mindspore._c_expression.Tensor'>, <class 'mindspore._c_expression.MetaTensor'>, <class 'pybind11_builtins.pybind11_object'>, <class 'object'>]\n",
      "[<class 'mindspore._c_expression.Tensor'>, <class 'mindspore._c_expression.MetaTensor'>, <class 'pybind11_builtins.pybind11_object'>, <class 'object'>]\n"
     ]
    }
   ],
   "source": [
    "print(Tensor.mro())\n",
    "print(Tensor_.mro())"
   ]
  },
  {
   "cell_type": "code",
   "execution_count": 24,
   "id": "77c47d1b-3a59-45a0-aad6-46ec4f69f21b",
   "metadata": {
    "tags": []
   },
   "outputs": [
    {
     "name": "stdout",
     "output_type": "stream",
     "text": [
      "ops create ones tensor is: [[1. 1.]\n",
      " [1. 1.]]\n",
      "ops create zeros tensor is: [[0. 0.]\n",
      " [0. 0.]]\n"
     ]
    }
   ],
   "source": [
    "# 回到正题，张量Tensor的创建也可以根据另一个Tensor的属性进行\n",
    "# mindspore提供了一个ops模块可用于Cell的构造\n",
    "a_ones = ops.ones_like(tensor1)\n",
    "a_zeros = ops.zeros_like(tensor1)\n",
    "print('ops create ones tensor is:', a_ones)\n",
    "print('ops create zeros tensor is:', a_zeros)"
   ]
  },
  {
   "cell_type": "markdown",
   "id": "9f6f5d4c-c29c-49d6-9e4d-d510c4d3cac2",
   "metadata": {
    "tags": []
   },
   "source": [
    "### 张量的常用属性\n",
    "\n",
    "- 形状（shape）：`Tensor`的shape，是一个tuple。\n",
    "\n",
    "- 数据类型（dtype）：`Tensor`元素的dtype，是MindSpore的一个数据类型。\n",
    "\n",
    "- 单个元素大小（itemsize）： `Tensor`中每一个元素占用字节数，是一个整数。\n",
    "\n",
    "- 占用字节数量（nbytes）： `Tensor`占用的总字节数，是一个整数。\n",
    "\n",
    "- 维数（ndim）： `Tensor`的秩，也就是len(tensor.shape)，是一个整数。\n",
    "\n",
    "- 元素个数（size）： `Tensor`中所有元素的个数，是一个整数。\n",
    "\n",
    "- 每一维步长（strides）： `Tensor`每一维所需要的字节数，是一个tuple。"
   ]
  },
  {
   "cell_type": "code",
   "execution_count": 26,
   "id": "c659e7e3-4c37-43e8-a392-f2da071fdbe6",
   "metadata": {
    "tags": []
   },
   "outputs": [
    {
     "name": "stdout",
     "output_type": "stream",
     "text": [
      "t_shape: (2, 3)\n",
      "t_dtype: Int64\n",
      "t_itemsize: 8\n",
      "t_nbytes: 48\n",
      "t_ndim: 2\n",
      "t_size: 6\n",
      "t_strides: (24, 8)\n"
     ]
    }
   ],
   "source": [
    "t = Tensor([[1,2,3],[1,7,9]])\n",
    "print(\"t_shape:\", t.shape)\n",
    "print(\"t_dtype:\", t.dtype)\n",
    "print(\"t_itemsize:\", t.itemsize)\n",
    "print(\"t_nbytes:\", t.nbytes)\n",
    "print(\"t_ndim:\", t.ndim)\n",
    "print(\"t_size:\", t.size)\n",
    "print(\"t_strides:\", t.strides)"
   ]
  },
  {
   "cell_type": "markdown",
   "id": "89645812-cbee-4760-91d2-d249ead7721f",
   "metadata": {
    "tags": []
   },
   "source": [
    "<span display=hidden>### 维度与维数区别\n",
    "Tensorflow描述张量的维度：阶，形状以及维数 \n",
    "\n",
    "TensorFlow用张量这种数据结构来表示所有的数据.你可以把一个张量想象成一个n维的数组或列表.一个张量有一个静态类型和动态类型的维数.张量可以在图中的节点之间流通。\n",
    "\n",
    "在TensorFlow系统中，张量的维数来被描述为阶。但是张量的阶和矩阵的阶并不是同一个概念。张量的阶（有时是关于如顺序或度数或者是n维）是张量维数的一个数量描述。\n",
    "\n",
    "比如，下面的张量（使用Python中list定义的）就是2阶。\n",
    "\n",
    "TensorFlow文档中使用了三种记号来方便地描述张量的维度：阶，形状以及维数.下表展示了他们之间的关系：\n",
    "</span>"
   ]
  },
  {
   "cell_type": "markdown",
   "id": "7c75bd46-e89b-4012-87fc-aa43abd09f67",
   "metadata": {
    "tags": []
   },
   "source": [
    "### 张量索引\n",
    "Tensor索引与Numpy索引类似，索引从0开始编制，负索引表示按倒序编制，冒号:和 ...用于对数据进行切片。"
   ]
  },
  {
   "cell_type": "code",
   "execution_count": 27,
   "id": "3a075740-cac2-4e49-9ad0-97d8ce2a1dbd",
   "metadata": {
    "tags": []
   },
   "outputs": [
    {
     "name": "stdout",
     "output_type": "stream",
     "text": [
      "the tensor is: [[1 2 3]\n",
      " [1 7 9]]\n",
      "First row: [1 2 3]\n",
      "value of bottom right corner: 7\n",
      "Last column: [3 9]\n",
      "First column: [1 1]\n"
     ]
    }
   ],
   "source": [
    "print('the tensor is:', t)\n",
    "print(\"First row: {}\".format(t[0]))\n",
    "print(\"value of bottom right corner: {}\".format(t[1, 1]))\n",
    "print(\"Last column: {}\".format(t[:, -1]))\n",
    "print(\"First column: {}\".format(t[..., 0]))"
   ]
  },
  {
   "cell_type": "markdown",
   "id": "3bbdc055-261d-402f-8eee-e81ac2af4d8c",
   "metadata": {
    "tags": []
   },
   "source": [
    "### 张量运算\n",
    "\n",
    "张量之间可以使用很多运算，包括算术、线性代数、矩阵处理（转置、标引、切片）、采样等，使用方法和numpy类似"
   ]
  },
  {
   "cell_type": "code",
   "execution_count": 28,
   "id": "2389243e-f666-4e71-a2a4-5fe82429c424",
   "metadata": {
    "tags": []
   },
   "outputs": [
    {
     "name": "stdout",
     "output_type": "stream",
     "text": [
      "add: [13.  7.  9.  8.]\n",
      "sub: [ 5. -3. -3.  2.]\n",
      "mul: [36. 10. 18. 15.]\n",
      "div: [2.25      0.4       0.5       1.6666666]\n",
      "mod: [1. 2. 3. 2.]\n",
      "floordiv: [2. 0. 0. 1.]\n",
      "[[9. 3.]\n",
      " [2. 5.]]\n",
      "concat tensors: [9. 2. 3. 5. 4. 5. 6. 3.]\n",
      "stack tensors: [[9. 2. 3. 5.]\n",
      " [4. 5. 6. 3.]]\n",
      "x: [9. 2. 3. 5.] <class 'mindspore.common.tensor.Tensor'>\n",
      "n: [9. 2. 3. 5.] <class 'numpy.ndarray'>\n"
     ]
    }
   ],
   "source": [
    "x = Tensor(np.array([9, 2, 3, 5]), mindspore.float32)\n",
    "y = Tensor(np.array([4, 5, 6, 3]), mindspore.float32)\n",
    "# 1. 算术运算\n",
    "print(\"add:\", x + y)\n",
    "print(\"sub:\", x - y)\n",
    "print(\"mul:\", x * y)\n",
    "print(\"div:\", x / y)\n",
    "print(\"mod:\", x % y)\n",
    "print(\"floordiv:\", x // y)\n",
    "# 2. 矩阵处理\n",
    "print(\"转置:\", x.reshape((2,2)).T)\n",
    "# 使用`ops.concat`连接张量\n",
    "print(\"concat tensors:\", ops.concat((x, y), axis=0))\n",
    "# 使用ops.stack从新维度合并张量\n",
    "print(\"stack tensors:\", ops.stack([x,y]))\n",
    "# 3. tensor与np.ndarray转换\n",
    "print(f\"x: {x}\", type(x))\n",
    "n = x.asnumpy()\n",
    "print(f\"n: {n}\", type(n))\n"
   ]
  },
  {
   "cell_type": "markdown",
   "id": "5c58c698-7e13-49d2-a00e-f67c2e0ffea3",
   "metadata": {},
   "source": [
    "### 几种特殊tensor\n",
    "#### 稀疏张量\n",
    "\n",
    "稀疏张量中绝大部分元素的值为零。\n",
    "\n",
    "在某些应用场景中（比如推荐系统、分子动力学、图神经网络等），数据的特征是稀疏的，若使用普通张量表征这些数据会引入大量不必要的计算、存储和通讯开销。这时就可以使用稀疏张量来表征这些数据。\n",
    "\n",
    "MindSpore支持常用的`CSR`和`COO`两种稀疏数据格式，如`CSRTensor`、`COOTensor`和`RowTensor`等\n",
    "\n",
    "常用稀疏张量的表达形式是`<indices:Tensor, values:Tensor, shape:Tensor>`。其中，`indices`表示非零下标元素， `values`表示非零元素的值，shape表示的是被压缩的稀疏张量的形状。"
   ]
  },
  {
   "cell_type": "markdown",
   "id": "623fb301-cf6d-4f5f-acfc-f0ede6e0b253",
   "metadata": {},
   "source": [
    "##### CSRTensor\n",
    "\n",
    "`CSR`（Compressed Sparse Row，压缩稀疏行）稀疏张量格式有着高效的存储与计算的优势。其中，非零元素的值存储在`values`中，非零元素的位置存储在`indptr`（行）和`indices`（列）中。各参数含义如下：\n",
    "\n",
    "- `indptr`: 一维整数张量, 表示稀疏数据每一行的非零元素在`values`中的起始位置和终止位置, 索引数据类型支持int16、int32、int64。\n",
    "\n",
    "- `indices`: 一维整数张量，表示稀疏张量非零元素在列中的位置, 与`values`长度相等，索引数据类型支持int16、int32、int64。\n",
    "\n",
    "- `values`: 一维张量，表示`CSRTensor`相对应的非零元素的值，与`indices`长度相等。\n",
    "\n",
    "- `shape`: 表示被压缩的稀疏张量的形状，数据类型为`Tuple`，目前仅支持二维`CSRTensor`。\n",
    "\n",
    "\n",
    "**注意** CSRTensor有以下限制：\n",
    "\n",
    "1. CSR仅能表示二维张量\n",
    "2. 行张量`indptr`的`size`为`csrtensor.shape[0]+1`，其索引i表示csr张量第i行，值为列张量`indices`索引，即指向该行第一个非0元素列位置\n",
    "3. 列张量`indices`，存储每个非0元素的列位置，长度与值张量`values`相等，`indices[i]` 表示第i个非0元素所在列位置\n",
    "4. 值张量`values` 存储csr所有非0值，按先行后列排序\n",
    "\n",
    "**注意** 在Ascend平台，CSRTensor很多运算不可用\n"
   ]
  },
  {
   "cell_type": "code",
   "execution_count": 17,
   "id": "ec496624-6bca-4eac-bd54-cbf515420e5d",
   "metadata": {
    "tags": []
   },
   "outputs": [
    {
     "name": "stdout",
     "output_type": "stream",
     "text": [
      "Float64\n",
      "CSRTensor(shape=[2, 4], dtype=Float32, indptr=Tensor(shape=[3], dtype=Int32, value=[0 1 2]), indices=Tensor(shape=[4], dtype=Int32, value=[0 2 1 3]), values=Tensor(shape=[4], dtype=Float32, value=[ 1.00000000e+00  5.00000000e+00  2.00000000e+00  9.00000000e+00]))\n"
     ]
    }
   ],
   "source": [
    "indptr = Tensor([0, 2, 4], dtype=mindspore.int32)\n",
    "indices = Tensor([0, 2, 1, 3], dtype=mindspore.int32)\n",
    "values = Tensor([1, 5, 2, 9], dtype=mindspore.float32)\n",
    "shape = (2, 4)\n",
    "\n",
    "# Make a CSRTensor\n",
    "csr_tensor = CSRTensor(indptr, indices, values, shape)\n",
    "\n",
    "print(csr_tensor.astype(mindspore.float64).dtype)\n",
    "print(csr_tensor)\n",
    "# 第一行元素indptr[0]首个非零元素在indices[indptr[0]]列出现，值为values[indptr[0]]\n",
    "# 第二行元素indptr[1]首个非零元素在indices[indptr[1]]列出现，值为values[indptr[1]]\n",
    "# values[indptr[0],indptr[1]]为第一行所有非零元素，列位置在indices中"
   ]
  },
  {
   "cell_type": "markdown",
   "id": "d74b3023-0f09-4ce9-a79f-92a0e967c923",
   "metadata": {},
   "source": [
    "上述代码表示如下所示的`CSRTensor`:\n",
    "\n",
    "$$\n",
    " \\left[\n",
    " \\begin{matrix}\n",
    "   1 & 0 & 5 & 0 \\\\\n",
    "   0 & 2 & 0 & 9\n",
    "  \\end{matrix}\n",
    "  \\right]\n",
    "$$"
   ]
  },
  {
   "cell_type": "markdown",
   "id": "e241fbf2-419c-425b-9d90-9fe656495f56",
   "metadata": {},
   "source": [
    "##### COOTensor\n",
    "\n",
    "`COO`（Coordinate Format）稀疏张量格式用来表示某一张量在给定索引上非零元素的集合，若非零元素的个数为`N`，被压缩的张量的维数为`ndims`。各参数含义如下：\n",
    "\n",
    "- `indices`: 二维整数张量，每行代表非零元素下标。形状：`[N, ndims]`， 索引数据类型支持int16、int32、int64。\n",
    "\n",
    "- `values`: 一维张量，表示相对应的非零元素的值。形状：`[N]`。\n",
    "\n",
    "- `shape`: 表示被压缩的稀疏张量的形状，目前仅支持二维`COOTensor`。\n",
    "\n",
    "**注意** values中每个非零元素values[i]在COOTensor中的坐标为indices[i]，因此可支持多维Tensor\n",
    "\n",
    "下面给出一些COOTensor的使用示例：\n"
   ]
  },
  {
   "cell_type": "code",
   "execution_count": 31,
   "id": "7531b254-b495-49a5-9cb1-fa08a1f224d2",
   "metadata": {
    "tags": []
   },
   "outputs": [
    {
     "data": {
      "text/plain": [
       "COOTensor(shape=[3, 4], dtype=Float32, indices=Tensor(shape=[2, 2], dtype=Int32, value=\n",
       "[[0 1]\n",
       " [1 2]]), values=Tensor(shape=[2], dtype=Float32, value=[ 1.00000000e+00  2.00000000e+00]))"
      ]
     },
     "execution_count": 31,
     "metadata": {},
     "output_type": "execute_result"
    }
   ],
   "source": [
    "indices = Tensor([[0, 1], [1, 2]], dtype=mindspore.int32)\n",
    "values = Tensor([1, 2], dtype=mindspore.float32)\n",
    "shape = (3, 4)\n",
    "\n",
    "# Make a COOTensor\n",
    "COOTensor(indices, values, shape)\n"
   ]
  },
  {
   "cell_type": "markdown",
   "id": "45f26769-4972-4c32-a7a3-74e9a9cf99a8",
   "metadata": {},
   "source": [
    "上述代码表示如下所示的`COOTensor`:\n",
    "\n",
    "$$\n",
    " \\left[\n",
    " \\begin{matrix}\n",
    "   0 & 1 & 0 & 0 \\\\\n",
    "   0 & 0 & 2 & 0 \\\\\n",
    "   0 & 0 & 0 & 0\n",
    "  \\end{matrix}\n",
    "  \\right]\n",
    "$$\n"
   ]
  },
  {
   "cell_type": "code",
   "execution_count": 32,
   "id": "d5904a5e-6ea9-4788-acc7-5ad80c38b1d0",
   "metadata": {
    "tags": []
   },
   "outputs": [
    {
     "name": "stdout",
     "output_type": "stream",
     "text": [
      "2024-07-04 16:08:16.273507+08:00 \n",
      "user:YZSH-HSZY\n"
     ]
    }
   ],
   "source": [
    "from datetime import datetime\n",
    "import pytz\n",
    "print(datetime.now(pytz.timezone('Asia/Shanghai')), '\\nuser:YZSH-HSZY')"
   ]
  }
 ],
 "metadata": {
  "kernelspec": {
   "display_name": "Python 3 (ipykernel)",
   "language": "python",
   "name": "python3"
  },
  "language_info": {
   "codemirror_mode": {
    "name": "ipython",
    "version": 3
   },
   "file_extension": ".py",
   "mimetype": "text/x-python",
   "name": "python",
   "nbconvert_exporter": "python",
   "pygments_lexer": "ipython3",
   "version": "3.9.19"
  }
 },
 "nbformat": 4,
 "nbformat_minor": 5
}
